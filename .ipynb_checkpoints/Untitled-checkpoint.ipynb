{
 "cells": [
  {
   "cell_type": "code",
   "execution_count": 1,
   "id": "00a2d52c-94bf-4065-a773-10572a0032ab",
   "metadata": {},
   "outputs": [],
   "source": [
    "from langchain_ollama import ChatOllama\n",
    "llm = ChatOllama(model=\"deepseek-r1:1.5b\", temperature=0)\n",
    "llm_json_mode = ChatOllama(model=\"deepseek-r1:1.5b\", temperature=0, format=\"json\")"
   ]
  },
  {
   "cell_type": "code",
   "execution_count": 8,
   "id": "5827a71a-edc5-4ed2-b914-53be8a018fd5",
   "metadata": {},
   "outputs": [
    {
     "data": {
      "text/plain": [
       "'<think>\\n\\n</think>\\n\\nThe capital of France is Paris.'"
      ]
     },
     "execution_count": 8,
     "metadata": {},
     "output_type": "execute_result"
    }
   ],
   "source": [
    "msg = llm.invoke(\"What is the capital of France?\")\n",
    "msg.content"
   ]
  },
  {
   "cell_type": "code",
   "execution_count": 7,
   "id": "52f14e60-138b-4949-b2c7-9c82842d3046",
   "metadata": {},
   "outputs": [
    {
     "data": {
      "text/plain": [
       "{'query': 'What are the most common reasons cats have been reported to be injured in recent years?',\n",
       " 'aspect': 'Cats',\n",
       " 'rationale': \"The aspect of 'cats' is central to this query because it directly relates to the topic of cats and their injuries. The query asks about specific reasons, which makes it more targeted and focused on a particular category within the broader topic.\"}"
      ]
     },
     "execution_count": 7,
     "metadata": {},
     "output_type": "execute_result"
    }
   ],
   "source": [
    "import json\n",
    "p = \"\"\"Your goal is to generated targeted web search query.\n",
    "\n",
    "The query will gather information related to a specific topic.\n",
    "\n",
    "Topic: Cats\n",
    "\n",
    "Return your query as a JSON object:\n",
    "\n",
    "{{\n",
    "    \"query\": \"string\",\n",
    "    \"aspect\": \"string\",\n",
    "    \"rationale\": \"string\"\n",
    "}}\n",
    "\"\"\"\n",
    "msg = llm_json_mode.invoke(p)\n",
    "query = json.loads(msg.content)\n",
    "query"
   ]
  },
  {
   "cell_type": "code",
   "execution_count": null,
   "id": "b901a9fe-83bf-4ea9-9515-387d8d7c48e4",
   "metadata": {},
   "outputs": [],
   "source": [
    "msg = llm.invoke(\"Give me a summary of scaling laws for RL models\")\n",
    "msg.content"
   ]
  },
  {
   "cell_type": "code",
   "execution_count": null,
   "id": "de7639ad-43b9-40c1-ae51-fad3fec9fcb6",
   "metadata": {},
   "outputs": [],
   "source": []
  }
 ],
 "metadata": {
  "kernelspec": {
   "display_name": "Python 3 (ipykernel)",
   "language": "python",
   "name": "python3"
  },
  "language_info": {
   "codemirror_mode": {
    "name": "ipython",
    "version": 3
   },
   "file_extension": ".py",
   "mimetype": "text/x-python",
   "name": "python",
   "nbconvert_exporter": "python",
   "pygments_lexer": "ipython3",
   "version": "3.13.1"
  }
 },
 "nbformat": 4,
 "nbformat_minor": 5
}
